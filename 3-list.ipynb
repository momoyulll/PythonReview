{
 "cells": [
  {
   "cell_type": "markdown",
   "metadata": {},
   "source": [
    "### Add an element at the list"
   ]
  },
  {
   "cell_type": "code",
   "execution_count": 1,
   "metadata": {},
   "outputs": [
    {
     "name": "stdout",
     "output_type": "stream",
     "text": [
      "['david', 'lucas', 'derek']\n",
      "['david', 'lucas', 'derek', 'ethan']\n"
     ]
    }
   ],
   "source": [
    "# Add new element at the end of the list.   method append()\n",
    "list = ['david', 'lucas', 'derek']\n",
    "print(list)\n",
    "list.append('ethan')\n",
    "print(list)"
   ]
  },
  {
   "cell_type": "code",
   "execution_count": 2,
   "metadata": {},
   "outputs": [
    {
     "name": "stdout",
     "output_type": "stream",
     "text": [
      "['david', 'Lyu', 'lucas', 'derek', 'ethan']\n"
     ]
    }
   ],
   "source": [
    "# Add an element at anywhere.  method insert()\n",
    "list.insert(1, 'Lyu')\n",
    "print(list)"
   ]
  },
  {
   "cell_type": "markdown",
   "metadata": {},
   "source": [
    "### Delete an element from the list"
   ]
  },
  {
   "cell_type": "code",
   "execution_count": 3,
   "metadata": {},
   "outputs": [
    {
     "name": "stdout",
     "output_type": "stream",
     "text": [
      "['david', 'lucas', 'derek', 'ethan']\n"
     ]
    }
   ],
   "source": [
    "# statement del\n",
    "del list[1]\n",
    "print(list)"
   ]
  },
  {
   "cell_type": "code",
   "execution_count": null,
   "metadata": {},
   "outputs": [
    {
     "name": "stdout",
     "output_type": "stream",
     "text": [
      "['david', 'lucas', 'derek']\n"
     ]
    }
   ],
   "source": [
    "# method pop(), just pop last one element\n",
    "list.pop()\n",
    "print(list)"
   ]
  },
  {
   "cell_type": "code",
   "execution_count": 5,
   "metadata": {},
   "outputs": [
    {
     "name": "stdout",
     "output_type": "stream",
     "text": [
      "['david', 'lucas']\n"
     ]
    }
   ],
   "source": [
    "# remove() method \n",
    "list.remove('derek')\n",
    "print(list)"
   ]
  },
  {
   "cell_type": "markdown",
   "metadata": {},
   "source": [
    "### Sort the list"
   ]
  },
  {
   "cell_type": "code",
   "execution_count": 16,
   "metadata": {},
   "outputs": [
    {
     "name": "stdout",
     "output_type": "stream",
     "text": [
      "[1, 2, 4, 7, 9, 17]\n",
      "[17, 9, 7, 4, 2, 1]\n"
     ]
    }
   ],
   "source": [
    "# method sort()\n",
    "num_1 = [2, 4, 1, 7, 9, 17]\n",
    "num_1.sort()\n",
    "print(num_1)\n",
    "num_1.sort(reverse=True)\n",
    "print(num_1)"
   ]
  },
  {
   "cell_type": "code",
   "execution_count": 21,
   "metadata": {},
   "outputs": [
    {
     "name": "stdout",
     "output_type": "stream",
     "text": [
      "[3, 5, 10, 11, 81, 99]\n",
      "[11, 5, 3, 81, 10, 99]\n",
      "[99, 81, 11, 10, 5, 3]\n"
     ]
    }
   ],
   "source": [
    "# function sorted()\n",
    "num_2 = [11, 5, 3, 81, 10, 99]\n",
    "print(sorted(num_2))\n",
    "print(num_2)\n",
    "print(sorted(num_2, reverse=True))"
   ]
  },
  {
   "cell_type": "markdown",
   "metadata": {},
   "source": [
    "### Reverse the list"
   ]
  },
  {
   "cell_type": "code",
   "execution_count": 25,
   "metadata": {},
   "outputs": [
    {
     "name": "stdout",
     "output_type": "stream",
     "text": [
      "[22, 10, 3, 7, 1]\n"
     ]
    }
   ],
   "source": [
    "num_3 = [1, 7, 3, 10, 22]\n",
    "num_3.reverse()\n",
    "print(num_3)"
   ]
  },
  {
   "cell_type": "code",
   "execution_count": 26,
   "metadata": {},
   "outputs": [
    {
     "name": "stdout",
     "output_type": "stream",
     "text": [
      "5\n"
     ]
    }
   ],
   "source": [
    "print(len(num_3))"
   ]
  },
  {
   "cell_type": "code",
   "execution_count": null,
   "metadata": {},
   "outputs": [],
   "source": []
  }
 ],
 "metadata": {
  "kernelspec": {
   "display_name": "Python 3",
   "language": "python",
   "name": "python3"
  },
  "language_info": {
   "codemirror_mode": {
    "name": "ipython",
    "version": 3
   },
   "file_extension": ".py",
   "mimetype": "text/x-python",
   "name": "python",
   "nbconvert_exporter": "python",
   "pygments_lexer": "ipython3",
   "version": "3.11.3"
  }
 },
 "nbformat": 4,
 "nbformat_minor": 2
}
